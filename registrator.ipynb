{
 "cells": [
  {
   "cell_type": "code",
   "execution_count": null,
   "metadata": {},
   "outputs": [],
   "source": [
    "##opencv\n",
    "import cv2\n",
    "import numpy as np\n",
    "import os\n",
    "\n",
    "#grabbing the last character from our notepad and then concatinating it for image counter for future subjects\n",
    "FileGrabber = file = open(\"opencv_imagecounter.txt\", \"r\")\n",
    "with open('opencv_imagecounter.txt','r') as f:\n",
    "    for line in f:\n",
    "        for word in line.split():\n",
    "            pos = line[-1] \n",
    "#subjects = [\"\", ]\n",
    "\n",
    "img_counter = pos\n",
    "\n",
    "face_cascade = cv2.CascadeClassifier(\"/home/apptopus-dell/Documents/idtxt pre-alpha/haarcascade_frontalface_default.xml\")\n",
    "eye_cascade = cv2.CascadeClassifier(\"/home/apptopus-dell/Documents/idtxt pre-alpha/haarcascade_eye.xml\")\n",
    "\n",
    "cap1 = cv2.VideoCapture(0) ##Webcam\n",
    "##cap2 = cv2.VideoCapture(1) ##Webcam\n",
    "\n",
    "while True: ##cap1.isOpened() and cap2.isOpened() :\n",
    "    ret,img = cap1.read()\n",
    "    ## ret, img2 = cap2.read()\n",
    "    gray = cv2.cvtColor(img, cv2.COLOR_BGR2GRAY)\n",
    "    faces = face_cascade.detectMultiScale(gray, 1.3, 5) #1.3 is scale factor 5 is minimum neighbor?\n",
    "    ##faces2 = face_cascade.detectMultiScale(gray, 1.3, 5)\n",
    "    for (x,y,w,h) in faces:\n",
    "        cv2.rectangle(img, (x,y), (x+w, y+h), (255,0,0),2)\n",
    "        roi_gray = gray[y:y+h, x:x+w]\n",
    "        roi_color = img[y:y+h, x:x+w]\n",
    "        eyes = eye_cascade.detectMultiScale(roi_gray)\n",
    "        for (ex, ey,ew,eh) in eyes:\n",
    "            cv2.rectangle(roi_color, (ex, ey), (ex+ew, ey+eh), (0,255,0),2 )\n",
    "            \n",
    "        cv2.imshow('Camera Feed 1',img)\n",
    "        k = cv2.waitKey(30) & 0xff\n",
    "        if k == 27: ##K Stands for Keyboard == KeyAscii 27 for ESC\n",
    "            break\n",
    "        if k == 32: ## KeyAscii SPACE\n",
    "            img_name = \"/Faces/{}.jpg\".format(img_counter)\n",
    "            grayscale = cv2.cvtColor(img, cv2.COLOR_BGR2GRAY)\n",
    "            cv2.imwrite(img_name, grayscale)\n",
    "            ##Text File - Nag lalagay ng string sa text file sa folder\n",
    "            file = open(\"opencv_imagecounter.txt\", \"a\")\n",
    "            file.write(\"%\" + str(img_counter))\n",
    "            file.close()\n",
    "            print(\"{} Captured\".format(img_name))\n",
    "            \n",
    "            img_counter += 1   \n",
    " ##for (x,y,w,h) in faces2:\n",
    " ##       cv2.rectangle(img2, (x,y), (x+w, y+h), (255,0,0),2)\n",
    " ##       roi_gray = gray[y:y+h, x:x+w]\n",
    " ##       roi_color = img2[y:y+h, x:x+w]\n",
    " ##       eyes = eye_cascade.detectMultiScale(roi_gray)\n",
    " ##       for (ex, ey,ew,eh) in eyes:\n",
    " ##          cv2.rectangle(roi_color, (ex, ey), (ex+ew, ey+eh), (0,255,0),2 )\n",
    "            \n",
    " ##      cv2.imshow('Camera Feed 2',img2)\n",
    " ##       k = cv2.waitKey(30) & 0xff\n",
    " ##       if k == 27: ##K Stands for Keyboard == KeyAscii 27 for ESC\n",
    " ##           break           \n",
    "            \n",
    "            \n",
    "cap.release()\n",
    "cv2.destroyAllWindows()"
   ]
  },
  {
   "cell_type": "code",
   "execution_count": null,
   "metadata": {},
   "outputs": [],
   "source": []
  },
  {
   "cell_type": "code",
   "execution_count": null,
   "metadata": {},
   "outputs": [],
   "source": []
  },
  {
   "cell_type": "code",
   "execution_count": null,
   "metadata": {},
   "outputs": [],
   "source": []
  },
  {
   "cell_type": "code",
   "execution_count": null,
   "metadata": {},
   "outputs": [],
   "source": []
  },
  {
   "cell_type": "code",
   "execution_count": null,
   "metadata": {},
   "outputs": [],
   "source": []
  },
  {
   "cell_type": "code",
   "execution_count": null,
   "metadata": {},
   "outputs": [],
   "source": []
  },
  {
   "cell_type": "code",
   "execution_count": null,
   "metadata": {},
   "outputs": [],
   "source": []
  },
  {
   "cell_type": "code",
   "execution_count": null,
   "metadata": {},
   "outputs": [],
   "source": []
  }
 ],
 "metadata": {
  "kernelspec": {
   "display_name": "Python 3",
   "language": "python",
   "name": "python3"
  },
  "language_info": {
   "codemirror_mode": {
    "name": "ipython",
    "version": 3
   },
   "file_extension": ".py",
   "mimetype": "text/x-python",
   "name": "python",
   "nbconvert_exporter": "python",
   "pygments_lexer": "ipython3",
   "version": "3.4.7"
  }
 },
 "nbformat": 4,
 "nbformat_minor": 2
}
